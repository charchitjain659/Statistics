{
  "nbformat": 4,
  "nbformat_minor": 0,
  "metadata": {
    "colab": {
      "provenance": []
    },
    "kernelspec": {
      "name": "python3",
      "display_name": "Python 3"
    },
    "language_info": {
      "name": "python"
    }
  },
  "cells": [
    {
      "cell_type": "markdown",
      "source": [
        "# Question 1: What is a random variable in probability theory?\n",
        "# ANSWER  \n",
        "A random variable is a variable whose possible values are outcomes of a random phenomenon.\n",
        "Formally, it is a function that assigns a real number to each outcome in the sample space of a random experiment.\n",
        "\n",
        "** Random variables can be of two types: **\n",
        "\n",
        "** Discrete random variable → ** takes countable values\n",
        "# e.g.\n",
        " number of heads in 3 coin tosses.\n",
        "** Continuous random variable →**  takes values from an interval of real numbers\n",
        "# e.g\n",
        "the time it takes for a bus to arrive"
      ],
      "metadata": {
        "id": "VyEcBmBQ6duK"
      }
    },
    {
      "cell_type": "markdown",
      "source": [
        "# Question 2: What are the types of random variables?\n",
        "# ANSWER\n",
        " ** THERE ARE TWO TYPES OF RANDOM VARIAVBLE **  \n",
        " 1 . Discrete random variable\n",
        " 2 . continuous random variable\n",
        "  \n",
        "  # defination\n",
        "  \n",
        "  ** 1 discrete random variable **\n",
        "  Takes countable values (finite or infinite but countable).\n",
        "# Example:\n",
        "= Number  of  heads  when flipping a coin 3 times → {0, 1, 2, 3}\n",
        "=  Number of students present in a class.\n",
        "= Usually described by a Probability Mass Function (PMF).\n",
        "\n",
        "\n",
        "** 2 continuous random variable **\n",
        "Takes uncountably infinite values (within an interval of real numbers).\n",
        "# Example:\n",
        "= Height of a person (e.g., 165.3 cm, 170.8 cm, etc.).\n",
        "= Time taken to complete a task.\n",
        "= Usually described by a Probability Density Function (PDF)."
      ],
      "metadata": {
        "id": "5Ffu1KJW7VOT"
      }
    },
    {
      "cell_type": "markdown",
      "source": [
        "# Question 3: Explain the difference between discrete and continuous distributions.\n",
        "\n",
        " # ANSWER\n",
        "                    **  1. Discrete Distribution **\n",
        "= Related to a discrete random variable.\n",
        "= Possible outcomes are countable (finite or countably infinite).\n",
        "= Probability is assigned to individual values.\n",
        "= Described by a Probability Mass Function (PMF).\n",
        "$ Examples:\n",
        "Binomial distribution (number of heads in 10 coin tosses).\n",
        "Poisson distribution (number of calls arriving in an hour\n",
        "                   ** 2. Continuous Distribution**\n",
        "\n",
        "= Related to a continuous random variable.\n",
        "= Possible outcomes are uncountable (any value in an interval).\n",
        "= Probability of a single exact value is zero; instead, probability is measured over intervals.\n",
        "= Described by a Probability Density Function (PDF).\n",
        "$ Examples:\n",
        "Normal distribution (human height, IQ scores).\n",
        "Exponential distribution (waiting time for a bus)."
      ],
      "metadata": {
        "id": "jlJYizpZ8y1u"
      }
    },
    {
      "cell_type": "markdown",
      "source": [
        "# Question 4: What is a binomial distribution, and how is it used in probability?\n",
        "# ANSWER\n",
        "A binomial distribution is a discrete probability distribution that models the number of successes in a fixed number of independent trials, where each trial has only** two** possible outcomes:\n",
        "Success (with probability p)\n",
        "Failure (with probability q = 1 – p)\n",
        "It is based on a Bernoulli trial repeated n times.\n",
        "\n",
        "# Uses in Probability\n",
        "\n",
        "The binomial distribution is used when:\n",
        "= We want the probability of getting exactly k successes in n trials.\n",
        "= We deal with yes/no, success/failure, true/false type outcomes."
      ],
      "metadata": {
        "id": "TDuFQ5Tr1n7g"
      }
    },
    {
      "cell_type": "markdown",
      "source": [
        "# Question 6: What is the Central Limit Theorem (CLT), and why is it critical in statistics?\n",
        " # ANSWER\n",
        " When you take repeated random samples of sufficiently large size\n",
        "𝑛 n from any population (with finite mean and variance), the sampling distribution of the sample mean will approach a normal distribution (bell-shaped), regardless of the original population’s distribution.\n",
        "# Why It Is Critical\n",
        "**Foundation of Inference **\n",
        "It allows us to use normal distribution methods (like z-scores, confidence intervals, hypothesis tests) even when the population itself is not normal.\n",
        "\n",
        "** Practical Application**\n",
        "In real-world data, populations often don’t follow a neat distribution. Thanks to the CLT, we can still make valid probability-based conclusions about sample means.\n",
        "\n",
        "** Simplifies Problems **\n",
        "Instead of working with unknown complicated distributions, we approximate with the normal distribution.\n",
        "\n",
        "** Wide Usage **\n",
        "Used in survey analysis, quality control, opinion polls, finance, and machine learning."
      ],
      "metadata": {
        "id": "z3WjHTAI29Xz"
      }
    },
    {
      "cell_type": "markdown",
      "source": [
        "# Question 7: What is the significance of confidence intervals in statistical analysis?\n",
        "# ANSWER\n",
        "A confidence interval is a range of values, derived from sample data, that is likely to contain the true population parameter (such as mean or proportion) with a certain level of confidence.\n",
        "\n",
        "# Significance in Statistical Analysis\n",
        "** Provides an Estimate with Uncertainty **\n",
        "Instead of giving just a single value (point estimate), CI shows a range that reflects the uncertainty due to sampling variation.\n",
        "\n",
        "** Measures Precision **\n",
        "A narrower interval → more precise estimate.\n",
        "A wider interval → more uncertainty.\n",
        "\n",
        " ** Supports Decision-Making **\n",
        "Widely used in scientific research, medicine, business, and economics to make data-driven decisions.\n",
        "$Example:\n",
        "A new drug trial may show a 95% CI for effectiveness between 70% and 85%.\n",
        "\n",
        "** Connection to Hypothesis Testing **\n",
        "If a confidence interval for a mean difference does not include 0, it suggests a statistically significant difference.\n",
        "\n",
        "** Interpretability **\n",
        "Easier for non-statisticians to understand than raw p-values, since it provides a meaningful range."
      ],
      "metadata": {
        "id": "emkV1tWn-Z7_"
      }
    },
    {
      "cell_type": "markdown",
      "source": [
        "# Question 8: What is the concept of expected value in a probability distribution?\n",
        "# ANSWER\n",
        "The expected value of a random variable is the long-run average of its outcomes, weighted by their probabilities.\n",
        "It tells us what we can “expect” to happen on average if we repeat the random experiment many times"
      ],
      "metadata": {
        "id": "WFdy1njx_Kln"
      }
    },
    {
      "cell_type": "markdown",
      "source": [
        "# Question 9: Write a Python program to generate 1000 random numbers from a normal Distribution with mean = 50 and standard deviation = 5. Compute its mean and standard deviation using NumPy, and draw a histogram to visualize the distribution."
      ],
      "metadata": {
        "id": "Jg6VMeYy_2xT"
      }
    },
    {
      "cell_type": "code",
      "source": [
        "import numpy as np\n",
        "import matplotlib.pyplot as plt\n",
        "\n",
        "# Step 1: Generate 1000 random numbers from a normal distribution\n",
        "mean = 50\n",
        "std_dev = 5\n",
        "size = 1000\n",
        "\n",
        "data = np.random.normal(loc=mean, scale=std_dev, size=size)\n",
        "\n",
        "# Step 2: Compute mean and standard deviation\n",
        "calculated_mean = np.mean(data)\n",
        "calculated_std = np.std(data)\n",
        "\n",
        "print(f\"Calculated Mean: {calculated_mean:.2f}\")\n",
        "print(f\"Calculated Standard Deviation: {calculated_std:.2f}\")\n",
        "\n",
        "# Step 3: Draw a histogram\n",
        "plt.hist(data, bins=30, edgecolor='black', alpha=0.7)\n",
        "plt.title(\"Histogram of Normally Distributed Data (mean=50, std=5)\")\n",
        "plt.xlabel(\"Value\")\n",
        "plt.ylabel(\"Frequency\")\n",
        "plt.grid(True, linestyle=\"--\", alpha=0.6)\n",
        "plt.show()\n"
      ],
      "metadata": {
        "colab": {
          "base_uri": "https://localhost:8080/",
          "height": 507
        },
        "id": "URL6Bkp5AGbH",
        "outputId": "21f253c6-bb28-4b1e-d6e9-37539b6c2299"
      },
      "execution_count": 1,
      "outputs": [
        {
          "output_type": "stream",
          "name": "stdout",
          "text": [
            "Calculated Mean: 49.96\n",
            "Calculated Standard Deviation: 4.94\n"
          ]
        },
        {
          "output_type": "display_data",
          "data": {
            "text/plain": [
              "<Figure size 640x480 with 1 Axes>"
            ],
            "image/png": "[encoded data removed]"
          },
          "metadata": {}
        }
      ]
    },
    {
      "cell_type": "markdown",
      "source": [
        "# Question 10: You are working as a data analyst for a retail company. The company has collected daily sales data for 2 years and wants you to identify the overall sales trend. daily_sales = [220, 245, 210, 265, 230, 250, 260, 275, 240, 255,235, 260, 245, 250, 225, 270, 265, 255, 250, 260]\n",
        "# ● Explain how you would apply the Central Limit Theorem to estimate the average sales with a 95% confidence interval.\n",
        "# ● Write the Python code to compute the mean sales and its confidence interval.\n",
        "\n",
        "# ** ANSWER **\n",
        "** Step 1: Applying the Central Limit Theorem (CLT) **\n",
        "The Central Limit Theorem says that if we take repeated random samples from a population, the distribution of the sample mean approaches normal (even if the population is not normal).\n",
        "\n",
        "Here, we only have one dataset of daily sales. But using CLT, we can:\n",
        "\n",
        "1 Treat the given daily sales data as a sample from the population.\n",
        "2 Compute the sample mean (𝑥-) and sample standard deviation (s).\n",
        "3 Estimate the standard error of the mean (SE)\n",
        "4 Construct a 95% confidence interval (CI)\n"
      ],
      "metadata": {
        "id": "P1rOjaU_BGf-"
      }
    },
    {
      "cell_type": "code",
      "source": [
        "# STEP 2\n",
        "import numpy as np\n",
        "import scipy.stats as stats\n",
        "\n",
        "# Daily sales data\n",
        "daily_sales = [220, 245, 210, 265, 230, 250, 260, 275, 240, 255,\n",
        "               235, 260, 245, 250, 225, 270, 265, 255, 250, 260]\n",
        "\n",
        "# Convert to numpy array\n",
        "data = np.array(daily_sales)\n",
        "\n",
        "# Sample mean and standard deviation\n",
        "mean_sales = np.mean(data)\n",
        "std_sales = np.std(data, ddof=1)  # sample standard deviation\n",
        "n = len(data)\n",
        "\n",
        "# Standard error\n",
        "SE = std_sales / np.sqrt(n)\n",
        "\n",
        "# 95% confidence interval\n",
        "confidence_level = 0.95\n",
        "z_score = stats.norm.ppf((1 + confidence_level) / 2)  # ≈ 1.96\n",
        "ci_lower = mean_sales - z_score * SE\n",
        "ci_upper = mean_sales + z_score * SE\n",
        "\n",
        "print(f\"Mean Sales: {mean_sales:.2f}\")\n",
        "print(f\"95% Confidence Interval: ({ci_lower:.2f}, {ci_upper:.2f})\")\n"
      ],
      "metadata": {
        "colab": {
          "base_uri": "https://localhost:8080/"
        },
        "id": "lYjc9ycgCcGO",
        "outputId": "f0ce2a66-8fe6-4847-f614-47a694029080"
      },
      "execution_count": 2,
      "outputs": [
        {
          "output_type": "stream",
          "name": "stdout",
          "text": [
            "Mean Sales: 248.25\n",
            "95% Confidence Interval: (240.68, 255.82)\n"
          ]
        }
      ]
    }
  ]
}