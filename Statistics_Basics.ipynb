{
  "nbformat": 4,
  "nbformat_minor": 0,
  "metadata": {
    "colab": {
      "provenance": []
    },
    "kernelspec": {
      "name": "python3",
      "display_name": "Python 3"
    },
    "language_info": {
      "name": "python"
    }
  },
  "cells": [
    {
      "cell_type": "markdown",
      "source": [
        " # Question 1: What is the difference between descriptive statistics and inferential statistics? Explain with examples\n",
        "# Answer\n",
        "# Descriptive Statistics\n",
        "● Tells us what the data looks like.\n",
        "● Just summarizes or describes the collected data.\n",
        "**● Example:**\n",
        "If you check the marks of 5 students → 60, 70, 80, 90, 100.\n",
        "○ Average = 80\n",
        "○ Highest = 100\n",
        "○ Lowest = 60\n",
        "# Inferential Statistics\n",
        "● Tells us what we can guess about a bigger group from a small sample.\n",
        "● Used to make predictions or conclusions.\n",
        "**● Example:**\n",
        "You ask 50 people in a city about their favorite fruit, and 30 say mango.\n"
      ],
      "metadata": {
        "id": "z5TrioNb6yk_"
      }
    },
    {
      "cell_type": "markdown",
      "source": [
        "# Question 2: What is sampling in statistics? Explain the differences between random and stratified sampling ?\n",
        "# ANSWER\n",
        "Sampling means taking a small part (sample) from a big group (population) to study\n",
        "it. Since it’s hard to study every single person or item in a population, we take a sample and\n",
        "use it to represent the whole group.\n",
        "# Example:\n",
        "If a school has 1,000 students, and we want to know the average height, we don’t measure\n",
        "all 1,000.\n",
        "# Random Sampling\n",
        "Every member of the population has an equal chance of being selected.\n",
        "It’s like picking names from a hat.\n",
        "# Example:\n",
        " From 1,000 students, you randomly select 100 by lottery.\n",
        "# Stratified Sampling\n",
        "● The population is divided into groups (strata) based on some characteristic (like\n",
        "gender, age, class).\n",
        "● Then, you pick a random sample from each group.\n",
        "# Example:\n",
        "● In the same school of 1,000 students (600 boys, 400 girls):\n",
        "● You divide them into boys and girls (two strata).\n",
        "● Then randomly pick 60 boys and 40 girls (keeping the same ratio)."
      ],
      "metadata": {
        "id": "eyj_uYc97Fg9"
      }
    },
    {
      "cell_type": "markdown",
      "source": [
        "# Question 3: Define mean, median, and mode. Explain why these measures of Central tendency are important\n",
        "# ANSWER\n",
        "# 1. Mean (Average)\n",
        "● Add up all the values, then divide by how many values there are.\n",
        "# ●  Example:\n",
        " Numbers = 2, 4, 6, 8, 10\n",
        "Mean = (2+4+6+8+10) ÷ 5 = 6\n",
        "# 2. Median (Middle Value)\n",
        "● Arrange data in order, then pick the middle value.\n",
        "● If there are two middle values, take their average.\n",
        "# ● Example:\n",
        " Numbers = 2, 4, 6, 8, 10\n",
        "Median = 6 (middle number).\n",
        "If Numbers = 2, 4, 6, 8 → Middle two = 4 & 6 → Median = (4+6)/2 = 5\n",
        "# 3. Mode (Most Frequent Value)\n",
        "● The value that occurs most often.\n",
        "# ● Example:\n",
        " Numbers = 2, 4, 4, 6, 8, 10\n",
        "Mode = 4 (because it appears most times).\n",
        "# Measures of Central Tendency are important :\n",
        "● They show the “center” or “typical value” of data.\n",
        "● Help to summarize large data into one value.\n",
        "● Useful in decision-making\n"
      ],
      "metadata": {
        "id": "4F9Hvwe27hUu"
      }
    },
    {
      "cell_type": "markdown",
      "source": [
        "# Question 4: Explain skewness and kurtosis. What does a positive skew imply about the data?\n",
        "# ANSWER\n",
        "# Skewness\n",
        "● Skewness tells us about the shape of data distribution – whether it leans more to the\n",
        "left or right.\n",
        "# Types:\n",
        "**1. Positive Skew (Right Skewed):**\n",
        "○ Tail is longer on the right side.\n",
        "○ Mean > Median > Mode\n",
        "○ Example: Income data (most people earn low/moderate, few earn very high).\n",
        "2. **Negative Skew (Left Skewed):**\n",
        "○ Tail is longer on the left side.\n",
        "○ Mean < Median < Mode\n",
        "○ Example: Age at retirement (most people retire around 60–65, few retire very\n",
        "early).\n",
        "Kurtosis\n",
        "● Kurtosis tells us about the “peakedness” or “flatness” of the data curve compared to\n",
        "a normal (bell-shaped) distribution.\n",
        "# Types:\n",
        "1. Mesokurtic (Normal Curve): Normal bell shape.\n",
        "2. Leptokurtic: Peak is tall and sharp, heavy tails → more outliers.\n",
        "3. Platykurtic: Peak is flat and broad, light tails → fewer outliers.\n"
      ],
      "metadata": {
        "id": "OF9Pq5TL8CZn"
      }
    },
    {
      "cell_type": "markdown",
      "source": [
        "# Question 5: Implement a Python program to compute the mean, median, and mode of a given list of numbers. numbers = [12, 15, 12, 18, 19, 12, 20, 22, 19, 19,24, 24, 24, 26, 28]\n"
      ],
      "metadata": {
        "id": "zs5L_WZd8Z9n"
      }
    },
    {
      "cell_type": "code",
      "source": [
        "import statistics as stats\n",
        "numbers = [12, 15, 12, 18, 19, 12, 20, 22, 19, 19, 24, 24, 24, 26, 28]\n",
        "mean_val = stats.mean(numbers)\n",
        "median_val = stats.median(numbers)\n",
        "mode_val = stats.mode(numbers) # If multiple modes exist, it gives the first one\n",
        "print(\"Mean:\", mean_val)\n",
        "print(\"Median:\", median_val)\n",
        "print(\"Mode:\", mode_val)\n"
      ],
      "metadata": {
        "colab": {
          "base_uri": "https://localhost:8080/"
        },
        "id": "QWpTQ2nt8iX9",
        "outputId": "0748d95f-4860-4d12-eb75-ad542600758c"
      },
      "execution_count": 1,
      "outputs": [
        {
          "output_type": "stream",
          "name": "stdout",
          "text": [
            "Mean: 19.6\n",
            "Median: 19\n",
            "Mode: 12\n"
          ]
        }
      ]
    },
    {
      "cell_type": "markdown",
      "source": [
        "# Question 6: Compute the covariance and correlation coefficient between the following two datasets provided as lists in Python: list_x = [10, 20, 30, 40, 50] list_y = [15, 25, 35, 45, 60]\n"
      ],
      "metadata": {
        "id": "nhLdRVWO8rX3"
      }
    },
    {
      "cell_type": "code",
      "source": [
        "import numpy as np\n",
        "list_x = [10, 20, 30, 40, 50]\n",
        "list_y = [15, 25, 35, 45, 60]\n",
        "x = np.array(list_x)\n",
        "y = np.array(list_y)\n",
        "cov_matrix = np.cov(x, y, bias=True)\n",
        "cov_xy = cov_matrix[0, 1]\n",
        "corr_xy = np.corrcoef(x, y)[0, 1]\n",
        "print(\"Covariance:\", cov_xy)\n",
        "print(\"Correlation Coefficient:\", corr_xy)\n"
      ],
      "metadata": {
        "colab": {
          "base_uri": "https://localhost:8080/"
        },
        "id": "iKHT8SK58vJ8",
        "outputId": "2ff8bee4-1044-476c-ef67-b5c4005815fe"
      },
      "execution_count": 2,
      "outputs": [
        {
          "output_type": "stream",
          "name": "stdout",
          "text": [
            "Covariance: 220.0\n",
            "Correlation Coefficient: 0.995893206467704\n"
          ]
        }
      ]
    },
    {
      "cell_type": "markdown",
      "source": [
        "# Question 7: Write a Python script to draw a boxplot for the following numeric list and identify its outliers. Explain the result: data = [12, 14, 14, 15, 18, 19, 19, 21, 22, 22, 23,23, 24, 26, 29, 35]\n"
      ],
      "metadata": {
        "id": "1p390K6a8zzs"
      }
    },
    {
      "cell_type": "code",
      "source": [
        "import matplotlib.pyplot as plt\n",
        "import numpy as np\n",
        "\n",
        "# Data from the question\n",
        "data = [12, 14, 14, 15, 18, 19, 19, 21, 22, 22, 23, 23, 24, 26, 29, 35]\n",
        "\n",
        "# Calculate quartiles and IQR for outlier detection\n",
        "q1 = np.percentile(data, 25)\n",
        "q3 = np.percentile(data, 75)\n",
        "iqr = q3 - q1\n",
        "\n",
        "# Define outlier boundaries using the 1.5 * IQR rule\n",
        "lower_bound = q1 - (1.5 * iqr)\n",
        "upper_bound = q3 + (1.5 * iqr)\n",
        "\n",
        "# Identify outliers\n",
        "outliers = [x for x in data if x < lower_bound or x > upper_bound]\n",
        "\n",
        "# Create the boxplot\n",
        "plt.figure(figsize=(8, 6))\n",
        "plt.boxplot(data, vert=True, patch_artist=True,\n",
        "boxprops=dict(facecolor='lightblue', color='blue'),\n",
        "medianprops=dict(color='red', linewidth=2),\n",
        "whiskerprops=dict(color='blue'),\n",
        "capprops=dict(color='blue'),\n",
        "flierprops=dict(marker='o', markerfacecolor='red',\n",
        "markersize=8))\n",
        "plt.title('Boxplot of Sample Data')\n",
        "plt.ylabel('Value')\n",
        "plt.grid(axis='y', linestyle='--')\n",
        "plt.show()"
      ],
      "metadata": {
        "colab": {
          "base_uri": "https://localhost:8080/",
          "height": 545
        },
        "id": "bVVmCUH086My",
        "outputId": "81027ffb-ba1a-4f5c-8691-08f7577a2a03"
      },
      "execution_count": 4,
      "outputs": [
        {
          "output_type": "display_data",
          "data": {
            "text/plain": [
              "<Figure size 800x600 with 1 Axes>"
            ],
            "image/png": "[encoded data removed]"
          },
          "metadata": {}
        }
      ]
    },
    {
      "cell_type": "markdown",
      "source": [
        "# Question 8: You are working as a data analyst in an e-commerce company. The marketing team wants to know if there is a relationship between advertising spend and daily sales. ● Explain how you would use covariance and correlation to explore this relationship. ● Write Python code to compute the correlation between the two lists: advertising_spend = [200, 250, 300, 400, 500] daily_sales = [2200, 2450, 2750,3200, 4000]\n"
      ],
      "metadata": {
        "id": "KmZ796yx9Y1v"
      }
    },
    {
      "cell_type": "code",
      "source": [
        "import numpy as np\n",
        "advertising_spend = [200, 250, 300, 400, 500]\n",
        "daily_sales = [2200, 2450, 2750, 3200, 4000]\n",
        "cov_matrix = np.cov(advertising_spend, daily_sales)\n",
        "covariance = cov_matrix[0, 1]\n",
        "correlation = np.corrcoef(advertising_spend, daily_sales)[0, 1]\n",
        "print(\"Covariance:\", covariance)\n",
        "print(\"Correlation:\", correlation)"
      ],
      "metadata": {
        "colab": {
          "base_uri": "https://localhost:8080/"
        },
        "id": "oik2P_ah9mVn",
        "outputId": "a56015e1-487d-4f87-8b95-9bfc30850920"
      },
      "execution_count": 5,
      "outputs": [
        {
          "output_type": "stream",
          "name": "stdout",
          "text": [
            "Covariance: 84875.0\n",
            "Correlation: 0.9935824101653329\n"
          ]
        }
      ]
    },
    {
      "cell_type": "markdown",
      "source": [
        "# Question 9: Your team has collected customer satisfaction survey data on a scale of 1-10 and wants to understand its distribution before launching a new product. ●Explain which summary statistics and visualizations (e.g. mean, standard deviation,histogram) you’d use. ● Write Python code to create a histogram using Matplotlib for the survey data: survey_scores = [7, 8, 5, 9, 6, 7, 8, 9, 10, 4, 7, 6, 9, 8, 7]\n",
        "\n",
        "# ANSWER\n",
        "\n",
        "\n",
        " When analyzing customer satisfaction survey data (scale 1–10), we want to understand both\n",
        "summary statistics and distribution:\n",
        "# 1. Summary Statistics\n",
        "○ Mean → average satisfaction score (gives overall level).\n",
        "○ Median → middle value (less sensitive to extreme scores).\n",
        "○ Mode → most frequent score (common sentiment among customers).\n",
        "○ Standard Deviation (SD) → how spread out the responses are (higher SD =\n",
        "more varied opinions).\n",
        "○ Minimum & Maximum → lowest and highest satisfaction.\n",
        "# 2. Visualizations\n",
        "○ Histogram → shows how scores are distributed (normal, skewed, etc.).\n",
        "○ Boxplot → highlights median, spread, and potential outliers.\n"
      ],
      "metadata": {
        "id": "oGhfj4uv9qSn"
      }
    },
    {
      "cell_type": "code",
      "source": [
        "import matplotlib.pyplot as plt\n",
        "# Survey data\n",
        "survey_scores = [7, 8, 5, 9, 6, 7, 8, 9, 10, 4, 7, 6, 9, 8, 7]\n",
        "# Create the histogram\n",
        "# The 'bins' are set to correspond to each integer score from 4 to 10\n",
        "# The 'edgecolor' makes the bars more distinct\n",
        "plt.hist(survey_scores, bins=range(4, 12), align='left', rwidth=0.8, edgecolor='black')\n",
        "# Set the title and axis labels\n",
        "plt.title('Distribution of Customer Satisfaction Scores')\n",
        "plt.xlabel('Satisfaction Score (1-10)')\n",
        "plt.ylabel('Frequency')\n",
        "plt.xticks(range(4, 11)) # Ensure ticks are on integer values\n",
        "# Display the plot\n",
        "plt.grid(axis='y', linestyle='--', alpha=0.7)\n",
        "plt.show()"
      ],
      "metadata": {
        "colab": {
          "base_uri": "https://localhost:8080/",
          "height": 472
        },
        "id": "hKMKQW7c99Pr",
        "outputId": "a7e3dfe4-19df-403c-c229-a5134c18db04"
      },
      "execution_count": 6,
      "outputs": [
        {
          "output_type": "display_data",
          "data": {
            "text/plain": [
              "<Figure size 640x480 with 1 Axes>"
            ],
            "image/png": "[encoded data removed]"
          },
          "metadata": {}
        }
      ]
    }
  ]
}